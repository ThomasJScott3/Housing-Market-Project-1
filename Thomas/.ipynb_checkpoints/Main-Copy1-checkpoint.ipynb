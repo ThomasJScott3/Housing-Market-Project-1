{
 "cells": [
  {
   "cell_type": "code",
   "execution_count": 1,
   "metadata": {},
   "outputs": [],
   "source": [
    "# Housing Market Project 1\n",
    "# Collaborators: Jackie Bai, Rosalyn Brown & Thomas Scott\n",
    "#Due Date: June 15th, 2021 (presentation - June 8th)"
   ]
  },
  {
   "cell_type": "code",
   "execution_count": 2,
   "metadata": {},
   "outputs": [],
   "source": [
    "#We probably won't need all of these, but better to have them.\n",
    "import plotly.express as px\n",
    "import pandas as pd\n",
    "import hvplot.pandas\n",
    "import matplotlib.pyplot as plt\n",
    "import numpy as np\n",
    "import os\n",
    "from pathlib import Path\n",
    "from dotenv import load_dotenv\n",
    "import csv\n",
    "import requests\n",
    "from pathlib import Path\n",
    "\n",
    "import seaborn as sns\n",
    "\n",
    "import warnings\n",
    "warnings.filterwarnings('ignore')"
   ]
  },
  {
   "cell_type": "code",
   "execution_count": 3,
   "metadata": {},
   "outputs": [],
   "source": [
    "#Import data sets\n",
    "\n",
    "#Fannie Histrical performance dataset\n",
    "\n",
    "FM_Hist_Performance = Path('../Data/HistoricalPerformance.csv')\n",
    "\n",
    "#Fannie Orgination dataset\n",
    "\n",
    "FM_Historical_Origination = Path('../Data/HistoricalOrigination.csv')\n",
    "\n",
    "#St. Louis Fed: Fed Funds Rate\n",
    "\n",
    "Fed_Funds = Path('../Data/FEDFUNDS.csv')\n",
    "\n",
    "#St. Louis Fed: 30 yr mtg interest rates (remember to weigh against schiller)\n",
    "\n",
    "Fixed_rate_mtg = Path('../Data/Freddie_Mac_30_yr_Fixed_Rate.csv')\n",
    "\n",
    "#S&P Schiller home price index\n",
    "\n",
    "Schiller_index = Path('../Data/CSUSHPINSA.csv')"
   ]
  },
  {
   "cell_type": "code",
   "execution_count": 4,
   "metadata": {},
   "outputs": [],
   "source": [
    "# Create dataframes\n",
    "\n",
    "#Fannie Histrical performance\n",
    "\n",
    "FM_Hist_Performance_df = pd.read_csv(FM_Hist_Performance, encoding='Latin-1')\n",
    "\n",
    "#Fannie Orgination\n",
    "\n",
    "FM_Historical_Origination_df = pd.read_csv(FM_Historical_Origination, encoding='Latin-1')\n",
    "\n",
    "#St. Louis Fed: Fed Funds Rate\n",
    "\n",
    "Fed_Funds_df = pd.read_csv(Fed_Funds)\n",
    "\n",
    "#St. Louis Fed: 30 yr mtg interest rates (remember to weigh against schiller)\n",
    "\n",
    "Fixed_rate_mtg_df = pd.read_csv(Fixed_rate_mtg)\n",
    "\n",
    "#S&P Schiller home price index\n",
    "\n",
    "Schiller_index_df = pd.read_csv(Schiller_index)"
   ]
  },
  {
   "cell_type": "code",
   "execution_count": 5,
   "metadata": {},
   "outputs": [
    {
     "data": {
      "text/html": [
       "<div>\n",
       "<style scoped>\n",
       "    .dataframe tbody tr th:only-of-type {\n",
       "        vertical-align: middle;\n",
       "    }\n",
       "\n",
       "    .dataframe tbody tr th {\n",
       "        vertical-align: top;\n",
       "    }\n",
       "\n",
       "    .dataframe thead th {\n",
       "        text-align: right;\n",
       "    }\n",
       "</style>\n",
       "<table border=\"1\" class=\"dataframe\">\n",
       "  <thead>\n",
       "    <tr style=\"text-align: right;\">\n",
       "      <th></th>\n",
       "      <th>DATE</th>\n",
       "      <th>CSUSHPINSA</th>\n",
       "    </tr>\n",
       "  </thead>\n",
       "  <tbody>\n",
       "    <tr>\n",
       "      <th>0</th>\n",
       "      <td>2000-01-01</td>\n",
       "      <td>104.776083</td>\n",
       "    </tr>\n",
       "    <tr>\n",
       "      <th>1</th>\n",
       "      <td>2001-01-01</td>\n",
       "      <td>113.184333</td>\n",
       "    </tr>\n",
       "    <tr>\n",
       "      <th>2</th>\n",
       "      <td>2002-01-01</td>\n",
       "      <td>122.286833</td>\n",
       "    </tr>\n",
       "    <tr>\n",
       "      <th>3</th>\n",
       "      <td>2003-01-01</td>\n",
       "      <td>133.740750</td>\n",
       "    </tr>\n",
       "    <tr>\n",
       "      <th>4</th>\n",
       "      <td>2004-01-01</td>\n",
       "      <td>150.463333</td>\n",
       "    </tr>\n",
       "  </tbody>\n",
       "</table>\n",
       "</div>"
      ],
      "text/plain": [
       "         DATE  CSUSHPINSA\n",
       "0  2000-01-01  104.776083\n",
       "1  2001-01-01  113.184333\n",
       "2  2002-01-01  122.286833\n",
       "3  2003-01-01  133.740750\n",
       "4  2004-01-01  150.463333"
      ]
     },
     "execution_count": 5,
     "metadata": {},
     "output_type": "execute_result"
    }
   ],
   "source": [
    "#Display sample dataframe\n",
    "\n",
    "Schiller_index_df.head()"
   ]
  },
  {
   "cell_type": "code",
   "execution_count": 6,
   "metadata": {},
   "outputs": [
    {
     "data": {
      "text/html": [
       "<div>\n",
       "<style scoped>\n",
       "    .dataframe tbody tr th:only-of-type {\n",
       "        vertical-align: middle;\n",
       "    }\n",
       "\n",
       "    .dataframe tbody tr th {\n",
       "        vertical-align: top;\n",
       "    }\n",
       "\n",
       "    .dataframe thead th {\n",
       "        text-align: right;\n",
       "    }\n",
       "</style>\n",
       "<table border=\"1\" class=\"dataframe\">\n",
       "  <thead>\n",
       "    <tr style=\"text-align: right;\">\n",
       "      <th></th>\n",
       "      <th>Year</th>\n",
       "      <th>Number of Records</th>\n",
       "      <th>Origination UPB ($M)</th>\n",
       "      <th>% Active</th>\n",
       "      <th>% Prepay</th>\n",
       "      <th>% Repurchase</th>\n",
       "      <th>% TPS</th>\n",
       "      <th>% Short Sale</th>\n",
       "      <th>% REO</th>\n",
       "      <th>% NPL</th>\n",
       "      <th>...</th>\n",
       "      <th>Average CLTV</th>\n",
       "      <th>Average DTI</th>\n",
       "      <th>Average Note Rate</th>\n",
       "      <th>% Investor</th>\n",
       "      <th>% Cashout</th>\n",
       "      <th>% CA</th>\n",
       "      <th>WA Risk Layers</th>\n",
       "      <th>MORTGAGE30US</th>\n",
       "      <th>FEDFUNDS</th>\n",
       "      <th>CSUSHPINSA</th>\n",
       "    </tr>\n",
       "  </thead>\n",
       "  <tbody>\n",
       "    <tr>\n",
       "      <th>0</th>\n",
       "      <td>2000</td>\n",
       "      <td>1,268,238</td>\n",
       "      <td>$160,749</td>\n",
       "      <td>0.21%</td>\n",
       "      <td>94.34%</td>\n",
       "      <td>0.18%</td>\n",
       "      <td>0.10%</td>\n",
       "      <td>0.05%</td>\n",
       "      <td>0.71%</td>\n",
       "      <td>0.01%</td>\n",
       "      <td>...</td>\n",
       "      <td>77.90%</td>\n",
       "      <td>35.40%</td>\n",
       "      <td>8.10%</td>\n",
       "      <td>3.60%</td>\n",
       "      <td>14.30%</td>\n",
       "      <td>14.30%</td>\n",
       "      <td>0.68</td>\n",
       "      <td>8.053462</td>\n",
       "      <td>6.235833</td>\n",
       "      <td>104.776083</td>\n",
       "    </tr>\n",
       "    <tr>\n",
       "      <th>1</th>\n",
       "      <td>2001</td>\n",
       "      <td>3,371,992</td>\n",
       "      <td>$472,779</td>\n",
       "      <td>0.35%</td>\n",
       "      <td>89.92%</td>\n",
       "      <td>0.10%</td>\n",
       "      <td>0.08%</td>\n",
       "      <td>0.05%</td>\n",
       "      <td>0.60%</td>\n",
       "      <td>0.02%</td>\n",
       "      <td>...</td>\n",
       "      <td>73.20%</td>\n",
       "      <td>33.30%</td>\n",
       "      <td>6.85%</td>\n",
       "      <td>3.90%</td>\n",
       "      <td>31.70%</td>\n",
       "      <td>18.10%</td>\n",
       "      <td>0.81</td>\n",
       "      <td>6.967885</td>\n",
       "      <td>3.887500</td>\n",
       "      <td>113.184333</td>\n",
       "    </tr>\n",
       "    <tr>\n",
       "      <th>2</th>\n",
       "      <td>2002</td>\n",
       "      <td>3,857,380</td>\n",
       "      <td>$564,732</td>\n",
       "      <td>0.70%</td>\n",
       "      <td>84.44%</td>\n",
       "      <td>0.10%</td>\n",
       "      <td>0.09%</td>\n",
       "      <td>0.06%</td>\n",
       "      <td>0.60%</td>\n",
       "      <td>0.03%</td>\n",
       "      <td>...</td>\n",
       "      <td>69.90%</td>\n",
       "      <td>32.90%</td>\n",
       "      <td>6.31%</td>\n",
       "      <td>4.50%</td>\n",
       "      <td>33.70%</td>\n",
       "      <td>19.20%</td>\n",
       "      <td>0.81</td>\n",
       "      <td>6.537308</td>\n",
       "      <td>1.666667</td>\n",
       "      <td>122.286833</td>\n",
       "    </tr>\n",
       "    <tr>\n",
       "      <th>3</th>\n",
       "      <td>2003</td>\n",
       "      <td>5,107,654</td>\n",
       "      <td>$778,021</td>\n",
       "      <td>1.69%</td>\n",
       "      <td>73.00%</td>\n",
       "      <td>0.10%</td>\n",
       "      <td>0.16%</td>\n",
       "      <td>0.13%</td>\n",
       "      <td>0.79%</td>\n",
       "      <td>0.07%</td>\n",
       "      <td>...</td>\n",
       "      <td>67.90%</td>\n",
       "      <td>32.60%</td>\n",
       "      <td>5.54%</td>\n",
       "      <td>4.50%</td>\n",
       "      <td>34.20%</td>\n",
       "      <td>20.90%</td>\n",
       "      <td>0.81</td>\n",
       "      <td>5.826981</td>\n",
       "      <td>1.127500</td>\n",
       "      <td>133.740750</td>\n",
       "    </tr>\n",
       "    <tr>\n",
       "      <th>4</th>\n",
       "      <td>2004</td>\n",
       "      <td>1,744,573</td>\n",
       "      <td>$274,074</td>\n",
       "      <td>2.63%</td>\n",
       "      <td>74.07%</td>\n",
       "      <td>0.15%</td>\n",
       "      <td>0.25%</td>\n",
       "      <td>0.43%</td>\n",
       "      <td>1.66%</td>\n",
       "      <td>0.15%</td>\n",
       "      <td>...</td>\n",
       "      <td>70.90%</td>\n",
       "      <td>35.70%</td>\n",
       "      <td>5.69%</td>\n",
       "      <td>4.10%</td>\n",
       "      <td>34.50%</td>\n",
       "      <td>18.20%</td>\n",
       "      <td>0.94</td>\n",
       "      <td>5.839231</td>\n",
       "      <td>1.349167</td>\n",
       "      <td>150.463333</td>\n",
       "    </tr>\n",
       "    <tr>\n",
       "      <th>5</th>\n",
       "      <td>2005</td>\n",
       "      <td>1,446,029</td>\n",
       "      <td>$252,240</td>\n",
       "      <td>3.46%</td>\n",
       "      <td>73.89%</td>\n",
       "      <td>0.23%</td>\n",
       "      <td>0.38%</td>\n",
       "      <td>1.42%</td>\n",
       "      <td>3.43%</td>\n",
       "      <td>0.27%</td>\n",
       "      <td>...</td>\n",
       "      <td>71.70%</td>\n",
       "      <td>37.60%</td>\n",
       "      <td>5.78%</td>\n",
       "      <td>3.80%</td>\n",
       "      <td>43.40%</td>\n",
       "      <td>14.20%</td>\n",
       "      <td>1.02</td>\n",
       "      <td>5.866731</td>\n",
       "      <td>3.213333</td>\n",
       "      <td>171.779083</td>\n",
       "    </tr>\n",
       "    <tr>\n",
       "      <th>6</th>\n",
       "      <td>2006</td>\n",
       "      <td>1,080,688</td>\n",
       "      <td>$198,677</td>\n",
       "      <td>3.30%</td>\n",
       "      <td>76.35%</td>\n",
       "      <td>0.38%</td>\n",
       "      <td>0.39%</td>\n",
       "      <td>2.22%</td>\n",
       "      <td>4.92%</td>\n",
       "      <td>0.34%</td>\n",
       "      <td>...</td>\n",
       "      <td>72.50%</td>\n",
       "      <td>38.80%</td>\n",
       "      <td>6.39%</td>\n",
       "      <td>4.90%</td>\n",
       "      <td>42.60%</td>\n",
       "      <td>11.80%</td>\n",
       "      <td>1.07</td>\n",
       "      <td>6.413269</td>\n",
       "      <td>4.964167</td>\n",
       "      <td>183.482167</td>\n",
       "    </tr>\n",
       "    <tr>\n",
       "      <th>7</th>\n",
       "      <td>2007</td>\n",
       "      <td>1,252,482</td>\n",
       "      <td>$245,737</td>\n",
       "      <td>3.76%</td>\n",
       "      <td>76.42%</td>\n",
       "      <td>0.83%</td>\n",
       "      <td>0.38%</td>\n",
       "      <td>2.40%</td>\n",
       "      <td>5.34%</td>\n",
       "      <td>0.42%</td>\n",
       "      <td>...</td>\n",
       "      <td>74.30%</td>\n",
       "      <td>38.90%</td>\n",
       "      <td>6.33%</td>\n",
       "      <td>6.10%</td>\n",
       "      <td>41.10%</td>\n",
       "      <td>11.70%</td>\n",
       "      <td>1.08</td>\n",
       "      <td>6.337308</td>\n",
       "      <td>5.019167</td>\n",
       "      <td>179.944250</td>\n",
       "    </tr>\n",
       "    <tr>\n",
       "      <th>8</th>\n",
       "      <td>2008</td>\n",
       "      <td>1,491,789</td>\n",
       "      <td>$315,022</td>\n",
       "      <td>2.96%</td>\n",
       "      <td>82.55%</td>\n",
       "      <td>0.71%</td>\n",
       "      <td>0.19%</td>\n",
       "      <td>1.13%</td>\n",
       "      <td>2.58%</td>\n",
       "      <td>0.23%</td>\n",
       "      <td>...</td>\n",
       "      <td>73.30%</td>\n",
       "      <td>37.90%</td>\n",
       "      <td>5.96%</td>\n",
       "      <td>6.40%</td>\n",
       "      <td>32.00%</td>\n",
       "      <td>18.40%</td>\n",
       "      <td>0.81</td>\n",
       "      <td>6.027170</td>\n",
       "      <td>1.927500</td>\n",
       "      <td>164.062500</td>\n",
       "    </tr>\n",
       "    <tr>\n",
       "      <th>9</th>\n",
       "      <td>2009</td>\n",
       "      <td>2,363,088</td>\n",
       "      <td>$522,072</td>\n",
       "      <td>5.48%</td>\n",
       "      <td>79.26%</td>\n",
       "      <td>0.12%</td>\n",
       "      <td>0.05%</td>\n",
       "      <td>0.15%</td>\n",
       "      <td>0.37%</td>\n",
       "      <td>0.05%</td>\n",
       "      <td>...</td>\n",
       "      <td>67.80%</td>\n",
       "      <td>33.60%</td>\n",
       "      <td>4.91%</td>\n",
       "      <td>2.90%</td>\n",
       "      <td>31.50%</td>\n",
       "      <td>20.90%</td>\n",
       "      <td>0.56</td>\n",
       "      <td>5.036538</td>\n",
       "      <td>0.160000</td>\n",
       "      <td>148.551167</td>\n",
       "    </tr>\n",
       "    <tr>\n",
       "      <th>10</th>\n",
       "      <td>2010</td>\n",
       "      <td>1,951,208</td>\n",
       "      <td>$432,356</td>\n",
       "      <td>8.37%</td>\n",
       "      <td>73.44%</td>\n",
       "      <td>0.07%</td>\n",
       "      <td>0.03%</td>\n",
       "      <td>0.04%</td>\n",
       "      <td>0.13%</td>\n",
       "      <td>0.03%</td>\n",
       "      <td>...</td>\n",
       "      <td>68.20%</td>\n",
       "      <td>31.80%</td>\n",
       "      <td>4.54%</td>\n",
       "      <td>4.60%</td>\n",
       "      <td>26.20%</td>\n",
       "      <td>25.10%</td>\n",
       "      <td>0.40</td>\n",
       "      <td>4.689808</td>\n",
       "      <td>0.175000</td>\n",
       "      <td>144.662083</td>\n",
       "    </tr>\n",
       "    <tr>\n",
       "      <th>11</th>\n",
       "      <td>2011</td>\n",
       "      <td>1,661,838</td>\n",
       "      <td>$357,697</td>\n",
       "      <td>11.79%</td>\n",
       "      <td>68.62%</td>\n",
       "      <td>0.04%</td>\n",
       "      <td>0.02%</td>\n",
       "      <td>0.02%</td>\n",
       "      <td>0.09%</td>\n",
       "      <td>0.02%</td>\n",
       "      <td>...</td>\n",
       "      <td>69.70%</td>\n",
       "      <td>32.10%</td>\n",
       "      <td>4.29%</td>\n",
       "      <td>6.20%</td>\n",
       "      <td>22.30%</td>\n",
       "      <td>25.90%</td>\n",
       "      <td>0.38</td>\n",
       "      <td>4.447885</td>\n",
       "      <td>0.101667</td>\n",
       "      <td>139.240167</td>\n",
       "    </tr>\n",
       "    <tr>\n",
       "      <th>12</th>\n",
       "      <td>2012</td>\n",
       "      <td>2,680,124</td>\n",
       "      <td>$608,106</td>\n",
       "      <td>24.99%</td>\n",
       "      <td>50.68%</td>\n",
       "      <td>0.05%</td>\n",
       "      <td>0.02%</td>\n",
       "      <td>0.01%</td>\n",
       "      <td>0.05%</td>\n",
       "      <td>0.01%</td>\n",
       "      <td>...</td>\n",
       "      <td>70.20%</td>\n",
       "      <td>31.10%</td>\n",
       "      <td>3.65%</td>\n",
       "      <td>6.00%</td>\n",
       "      <td>19.10%</td>\n",
       "      <td>26.60%</td>\n",
       "      <td>0.32</td>\n",
       "      <td>3.657500</td>\n",
       "      <td>0.140000</td>\n",
       "      <td>140.988083</td>\n",
       "    </tr>\n",
       "    <tr>\n",
       "      <th>13</th>\n",
       "      <td>2013</td>\n",
       "      <td>2,207,361</td>\n",
       "      <td>$483,403</td>\n",
       "      <td>27.25%</td>\n",
       "      <td>51.61%</td>\n",
       "      <td>0.17%</td>\n",
       "      <td>0.02%</td>\n",
       "      <td>0.01%</td>\n",
       "      <td>0.06%</td>\n",
       "      <td>0.01%</td>\n",
       "      <td>...</td>\n",
       "      <td>73.50%</td>\n",
       "      <td>32.60%</td>\n",
       "      <td>3.83%</td>\n",
       "      <td>7.50%</td>\n",
       "      <td>19.20%</td>\n",
       "      <td>25.10%</td>\n",
       "      <td>0.36</td>\n",
       "      <td>3.975577</td>\n",
       "      <td>0.107500</td>\n",
       "      <td>154.525583</td>\n",
       "    </tr>\n",
       "    <tr>\n",
       "      <th>14</th>\n",
       "      <td>2014</td>\n",
       "      <td>1,449,702</td>\n",
       "      <td>$311,589</td>\n",
       "      <td>22.88%</td>\n",
       "      <td>62.94%</td>\n",
       "      <td>0.16%</td>\n",
       "      <td>0.03%</td>\n",
       "      <td>0.02%</td>\n",
       "      <td>0.08%</td>\n",
       "      <td>0.01%</td>\n",
       "      <td>...</td>\n",
       "      <td>77.20%</td>\n",
       "      <td>34.20%</td>\n",
       "      <td>4.30%</td>\n",
       "      <td>7.80%</td>\n",
       "      <td>18.80%</td>\n",
       "      <td>22.30%</td>\n",
       "      <td>0.40</td>\n",
       "      <td>4.168868</td>\n",
       "      <td>0.089167</td>\n",
       "      <td>164.690333</td>\n",
       "    </tr>\n",
       "    <tr>\n",
       "      <th>15</th>\n",
       "      <td>2015</td>\n",
       "      <td>1,869,437</td>\n",
       "      <td>$423,209</td>\n",
       "      <td>33.19%</td>\n",
       "      <td>52.76%</td>\n",
       "      <td>0.09%</td>\n",
       "      <td>0.02%</td>\n",
       "      <td>0.01%</td>\n",
       "      <td>0.05%</td>\n",
       "      <td>0.00%</td>\n",
       "      <td>...</td>\n",
       "      <td>75.90%</td>\n",
       "      <td>33.70%</td>\n",
       "      <td>3.98%</td>\n",
       "      <td>7.30%</td>\n",
       "      <td>20.10%</td>\n",
       "      <td>23.20%</td>\n",
       "      <td>0.40</td>\n",
       "      <td>3.850577</td>\n",
       "      <td>0.132500</td>\n",
       "      <td>172.190917</td>\n",
       "    </tr>\n",
       "    <tr>\n",
       "      <th>16</th>\n",
       "      <td>2016</td>\n",
       "      <td>2,353,813</td>\n",
       "      <td>$555,052</td>\n",
       "      <td>44.80%</td>\n",
       "      <td>42.32%</td>\n",
       "      <td>0.05%</td>\n",
       "      <td>0.01%</td>\n",
       "      <td>0.01%</td>\n",
       "      <td>0.03%</td>\n",
       "      <td>0.00%</td>\n",
       "      <td>...</td>\n",
       "      <td>74.30%</td>\n",
       "      <td>33.50%</td>\n",
       "      <td>3.72%</td>\n",
       "      <td>5.80%</td>\n",
       "      <td>20.60%</td>\n",
       "      <td>23.20%</td>\n",
       "      <td>0.39</td>\n",
       "      <td>3.654038</td>\n",
       "      <td>0.395000</td>\n",
       "      <td>180.945083</td>\n",
       "    </tr>\n",
       "    <tr>\n",
       "      <th>17</th>\n",
       "      <td>2017</td>\n",
       "      <td>2,014,548</td>\n",
       "      <td>$462,000</td>\n",
       "      <td>44.32%</td>\n",
       "      <td>46.44%</td>\n",
       "      <td>0.07%</td>\n",
       "      <td>0.01%</td>\n",
       "      <td>0.01%</td>\n",
       "      <td>0.03%</td>\n",
       "      <td>0.00%</td>\n",
       "      <td>...</td>\n",
       "      <td>76.80%</td>\n",
       "      <td>35.40%</td>\n",
       "      <td>4.17%</td>\n",
       "      <td>6.70%</td>\n",
       "      <td>22.30%</td>\n",
       "      <td>19.50%</td>\n",
       "      <td>0.50</td>\n",
       "      <td>3.989808</td>\n",
       "      <td>1.001667</td>\n",
       "      <td>191.439167</td>\n",
       "    </tr>\n",
       "    <tr>\n",
       "      <th>18</th>\n",
       "      <td>2018</td>\n",
       "      <td>1,787,446</td>\n",
       "      <td>$419,622</td>\n",
       "      <td>39.74%</td>\n",
       "      <td>54.53%</td>\n",
       "      <td>0.10%</td>\n",
       "      <td>0.01%</td>\n",
       "      <td>0.01%</td>\n",
       "      <td>0.02%</td>\n",
       "      <td>0.00%</td>\n",
       "      <td>...</td>\n",
       "      <td>78.30%</td>\n",
       "      <td>37.60%</td>\n",
       "      <td>4.76%</td>\n",
       "      <td>6.40%</td>\n",
       "      <td>21.50%</td>\n",
       "      <td>17.10%</td>\n",
       "      <td>0.63</td>\n",
       "      <td>4.544615</td>\n",
       "      <td>1.831667</td>\n",
       "      <td>202.526833</td>\n",
       "    </tr>\n",
       "    <tr>\n",
       "      <th>19</th>\n",
       "      <td>2019</td>\n",
       "      <td>2,211,117</td>\n",
       "      <td>$581,664</td>\n",
       "      <td>58.91%</td>\n",
       "      <td>37.44%</td>\n",
       "      <td>0.11%</td>\n",
       "      <td>0.00%</td>\n",
       "      <td>0.00%</td>\n",
       "      <td>0.00%</td>\n",
       "      <td>0.00%</td>\n",
       "      <td>...</td>\n",
       "      <td>76.20%</td>\n",
       "      <td>35.80%</td>\n",
       "      <td>4.11%</td>\n",
       "      <td>4.60%</td>\n",
       "      <td>20.80%</td>\n",
       "      <td>20.60%</td>\n",
       "      <td>0.49</td>\n",
       "      <td>3.935769</td>\n",
       "      <td>2.158333</td>\n",
       "      <td>209.537333</td>\n",
       "    </tr>\n",
       "    <tr>\n",
       "      <th>20</th>\n",
       "      <td>2020</td>\n",
       "      <td>4,563,123</td>\n",
       "      <td>$1,279,762</td>\n",
       "      <td>93.54%</td>\n",
       "      <td>5.05%</td>\n",
       "      <td>0.03%</td>\n",
       "      <td>0.00%</td>\n",
       "      <td>0.00%</td>\n",
       "      <td>0.00%</td>\n",
       "      <td>0.00%</td>\n",
       "      <td>...</td>\n",
       "      <td>71.50%</td>\n",
       "      <td>33.50%</td>\n",
       "      <td>3.15%</td>\n",
       "      <td>4.30%</td>\n",
       "      <td>18.80%</td>\n",
       "      <td>22.60%</td>\n",
       "      <td>0.39</td>\n",
       "      <td>3.111698</td>\n",
       "      <td>0.375833</td>\n",
       "      <td>222.179917</td>\n",
       "    </tr>\n",
       "  </tbody>\n",
       "</table>\n",
       "<p>21 rows × 31 columns</p>\n",
       "</div>"
      ],
      "text/plain": [
       "    Year Number of Records Origination UPB ($M) % Active % Prepay  \\\n",
       "0   2000         1,268,238             $160,749    0.21%   94.34%   \n",
       "1   2001         3,371,992             $472,779    0.35%   89.92%   \n",
       "2   2002         3,857,380             $564,732    0.70%   84.44%   \n",
       "3   2003         5,107,654             $778,021    1.69%   73.00%   \n",
       "4   2004         1,744,573             $274,074    2.63%   74.07%   \n",
       "5   2005         1,446,029             $252,240    3.46%   73.89%   \n",
       "6   2006         1,080,688             $198,677    3.30%   76.35%   \n",
       "7   2007         1,252,482             $245,737    3.76%   76.42%   \n",
       "8   2008         1,491,789             $315,022    2.96%   82.55%   \n",
       "9   2009         2,363,088             $522,072    5.48%   79.26%   \n",
       "10  2010         1,951,208             $432,356    8.37%   73.44%   \n",
       "11  2011         1,661,838             $357,697   11.79%   68.62%   \n",
       "12  2012         2,680,124             $608,106   24.99%   50.68%   \n",
       "13  2013         2,207,361             $483,403   27.25%   51.61%   \n",
       "14  2014         1,449,702             $311,589   22.88%   62.94%   \n",
       "15  2015         1,869,437             $423,209   33.19%   52.76%   \n",
       "16  2016         2,353,813             $555,052   44.80%   42.32%   \n",
       "17  2017         2,014,548             $462,000   44.32%   46.44%   \n",
       "18  2018         1,787,446             $419,622   39.74%   54.53%   \n",
       "19  2019         2,211,117             $581,664   58.91%   37.44%   \n",
       "20  2020         4,563,123           $1,279,762   93.54%    5.05%   \n",
       "\n",
       "   % Repurchase  % TPS % Short Sale  % REO  % NPL  ... Average CLTV  \\\n",
       "0         0.18%  0.10%        0.05%  0.71%  0.01%  ...       77.90%   \n",
       "1         0.10%  0.08%        0.05%  0.60%  0.02%  ...       73.20%   \n",
       "2         0.10%  0.09%        0.06%  0.60%  0.03%  ...       69.90%   \n",
       "3         0.10%  0.16%        0.13%  0.79%  0.07%  ...       67.90%   \n",
       "4         0.15%  0.25%        0.43%  1.66%  0.15%  ...       70.90%   \n",
       "5         0.23%  0.38%        1.42%  3.43%  0.27%  ...       71.70%   \n",
       "6         0.38%  0.39%        2.22%  4.92%  0.34%  ...       72.50%   \n",
       "7         0.83%  0.38%        2.40%  5.34%  0.42%  ...       74.30%   \n",
       "8         0.71%  0.19%        1.13%  2.58%  0.23%  ...       73.30%   \n",
       "9         0.12%  0.05%        0.15%  0.37%  0.05%  ...       67.80%   \n",
       "10        0.07%  0.03%        0.04%  0.13%  0.03%  ...       68.20%   \n",
       "11        0.04%  0.02%        0.02%  0.09%  0.02%  ...       69.70%   \n",
       "12        0.05%  0.02%        0.01%  0.05%  0.01%  ...       70.20%   \n",
       "13        0.17%  0.02%        0.01%  0.06%  0.01%  ...       73.50%   \n",
       "14        0.16%  0.03%        0.02%  0.08%  0.01%  ...       77.20%   \n",
       "15        0.09%  0.02%        0.01%  0.05%  0.00%  ...       75.90%   \n",
       "16        0.05%  0.01%        0.01%  0.03%  0.00%  ...       74.30%   \n",
       "17        0.07%  0.01%        0.01%  0.03%  0.00%  ...       76.80%   \n",
       "18        0.10%  0.01%        0.01%  0.02%  0.00%  ...       78.30%   \n",
       "19        0.11%  0.00%        0.00%  0.00%  0.00%  ...       76.20%   \n",
       "20        0.03%  0.00%        0.00%  0.00%  0.00%  ...       71.50%   \n",
       "\n",
       "   Average DTI Average Note Rate % Investor % Cashout    % CA WA Risk Layers  \\\n",
       "0       35.40%             8.10%      3.60%    14.30%  14.30%           0.68   \n",
       "1       33.30%             6.85%      3.90%    31.70%  18.10%           0.81   \n",
       "2       32.90%             6.31%      4.50%    33.70%  19.20%           0.81   \n",
       "3       32.60%             5.54%      4.50%    34.20%  20.90%           0.81   \n",
       "4       35.70%             5.69%      4.10%    34.50%  18.20%           0.94   \n",
       "5       37.60%             5.78%      3.80%    43.40%  14.20%           1.02   \n",
       "6       38.80%             6.39%      4.90%    42.60%  11.80%           1.07   \n",
       "7       38.90%             6.33%      6.10%    41.10%  11.70%           1.08   \n",
       "8       37.90%             5.96%      6.40%    32.00%  18.40%           0.81   \n",
       "9       33.60%             4.91%      2.90%    31.50%  20.90%           0.56   \n",
       "10      31.80%             4.54%      4.60%    26.20%  25.10%           0.40   \n",
       "11      32.10%             4.29%      6.20%    22.30%  25.90%           0.38   \n",
       "12      31.10%             3.65%      6.00%    19.10%  26.60%           0.32   \n",
       "13      32.60%             3.83%      7.50%    19.20%  25.10%           0.36   \n",
       "14      34.20%             4.30%      7.80%    18.80%  22.30%           0.40   \n",
       "15      33.70%             3.98%      7.30%    20.10%  23.20%           0.40   \n",
       "16      33.50%             3.72%      5.80%    20.60%  23.20%           0.39   \n",
       "17      35.40%             4.17%      6.70%    22.30%  19.50%           0.50   \n",
       "18      37.60%             4.76%      6.40%    21.50%  17.10%           0.63   \n",
       "19      35.80%             4.11%      4.60%    20.80%  20.60%           0.49   \n",
       "20      33.50%             3.15%      4.30%    18.80%  22.60%           0.39   \n",
       "\n",
       "   MORTGAGE30US  FEDFUNDS  CSUSHPINSA  \n",
       "0      8.053462  6.235833  104.776083  \n",
       "1      6.967885  3.887500  113.184333  \n",
       "2      6.537308  1.666667  122.286833  \n",
       "3      5.826981  1.127500  133.740750  \n",
       "4      5.839231  1.349167  150.463333  \n",
       "5      5.866731  3.213333  171.779083  \n",
       "6      6.413269  4.964167  183.482167  \n",
       "7      6.337308  5.019167  179.944250  \n",
       "8      6.027170  1.927500  164.062500  \n",
       "9      5.036538  0.160000  148.551167  \n",
       "10     4.689808  0.175000  144.662083  \n",
       "11     4.447885  0.101667  139.240167  \n",
       "12     3.657500  0.140000  140.988083  \n",
       "13     3.975577  0.107500  154.525583  \n",
       "14     4.168868  0.089167  164.690333  \n",
       "15     3.850577  0.132500  172.190917  \n",
       "16     3.654038  0.395000  180.945083  \n",
       "17     3.989808  1.001667  191.439167  \n",
       "18     4.544615  1.831667  202.526833  \n",
       "19     3.935769  2.158333  209.537333  \n",
       "20     3.111698  0.375833  222.179917  \n",
       "\n",
       "[21 rows x 31 columns]"
      ]
     },
     "execution_count": 6,
     "metadata": {},
     "output_type": "execute_result"
    }
   ],
   "source": [
    "##Merge datasets into consolidated dataframe & drop nulls\n",
    "\n",
    "Combined_dataframe = pd.concat([FM_Hist_Performance_df, FM_Historical_Origination_df.drop(columns='Unnamed: 0'), Fixed_rate_mtg_df.drop(columns='DATE'), Fed_Funds_df.drop(columns='DATE'), Schiller_index_df.drop(columns='DATE')], axis = 1).dropna()\n",
    "\n",
    "#Reset index and drop duplicate index\n",
    "                         \n",
    "Combined_df = Combined_dataframe.reset_index().drop(columns='index')\n",
    "\n",
    "#Rename year column\n",
    "\n",
    "Combined_df.rename(columns = {'Unnamed: 0': 'Year'}, inplace = True)\n",
    "\n",
    "#Display data\n",
    "\n",
    "Combined_df.head(21)\n",
    "\n",
    "#Note to collaborators, all the data/ columns are present in the dataframe. \n",
    "#Jupyter just adds the ... to save space and display the data in an abridged format. \n",
    "#Try exporting the data to a CSV using 'to_csv' in pandas and you will see what I mean."
   ]
  },
  {
   "cell_type": "code",
   "execution_count": 4,
   "metadata": {},
   "outputs": [],
   "source": [
    "#Define functions"
   ]
  },
  {
   "cell_type": "code",
   "execution_count": 75,
   "metadata": {},
   "outputs": [
    {
     "data": {
      "text/plain": [
       "<AxesSubplot:xlabel='Year'>"
      ]
     },
     "execution_count": 75,
     "metadata": {},
     "output_type": "execute_result"
    },
    {
     "data": {
      "image/png": "[encoded data removed]",
      "text/plain": [
       "<Figure size 432x288 with 1 Axes>"
      ]
     },
     "metadata": {
      "needs_background": "light"
     },
     "output_type": "display_data"
    }
   ],
   "source": [
    "#1. Line plot of total loan volume & interest rate (Tom)\n",
    "\n",
    "Set_Rate_as_Index = Combined_df.set_index('Year')\n",
    "\n",
    "Only_Origination = Set_Rate_as_Index[['Orig. Loan Count', 'MORTGAGE30US']]\n",
    "\n",
    "Only_Origination['Orig. Loan Count'] = Only_Origination['Orig. Loan Count'].str.replace(',','')\n",
    "\n",
    "To_Int = Only_Origination[['Orig. Loan Count', 'MORTGAGE30US']].astype(float)\n",
    "\n",
    "To_Int_Reset_Index = To_Int.reset_index()\n",
    "\n",
    "To_Int_Reset_Index['Year'] = To_Int_Reset_Index['Year'].astype(str)\n",
    "\n",
    "To_Int_Reset_Index = To_Int_Reset_Index.set_index('Year')\n",
    "\n",
    "To_Int_Reset_Index['Loan Volume (in millions)'] = To_Int_Reset_Index['Orig. Loan Count'] / 1000000\n",
    "\n",
    "To_Int_Reset_Index['National Average 30 Year Interest Rate'] = To_Int_Reset_Index['MORTGAGE30US']\n",
    "\n",
    "To_Int_Reset_Index = To_Int_Reset_Index.drop(columns = ['Orig. Loan Count', 'MORTGAGE30US'])\n",
    "\n",
    "\n",
    "Inverse_Plot = To_Int_Reset_Index.plot.area(stacked=False)\n",
    "\n",
    "Inverse_Plot"
   ]
  },
  {
   "cell_type": "code",
   "execution_count": 33,
   "metadata": {},
   "outputs": [
    {
     "name": "stdout",
     "output_type": "stream",
     "text": [
      "                                  Loan Volume (in millions)  \\\n",
      "Loan Volume (in millions)                          1.000000   \n",
      "Nationwide 30 Year Interest Rate                  -0.134751   \n",
      "\n",
      "                                  Nationwide 30 Year Interest Rate  \n",
      "Loan Volume (in millions)                                -0.134751  \n",
      "Nationwide 30 Year Interest Rate                          1.000000  \n"
     ]
    },
    {
     "data": {
      "image/png": "[encoded data removed]",
      "text/plain": [
       "<Figure size 432x288 with 2 Axes>"
      ]
     },
     "metadata": {
      "needs_background": "light"
     },
     "output_type": "display_data"
    }
   ],
   "source": [
    "#Show correlation between interest rate and LTV\n",
    "\n",
    "LTV_Rate_Corr = To_Int_Reset_Index.corr()\n",
    "\n",
    "print(LTV_Rate_Corr)\n",
    "\n",
    "LTV_Rate_Corr_Heatmap = sns.heatmap(LTV_Rate_Corr, annot=True, vmax=1, vmin=-1)\n"
   ]
  },
  {
   "cell_type": "code",
   "execution_count": 68,
   "metadata": {},
   "outputs": [
    {
     "data": {
      "text/plain": [
       "<AxesSubplot:xlabel='Year'>"
      ]
     },
     "execution_count": 68,
     "metadata": {},
     "output_type": "execute_result"
    },
    {
     "data": {
      "image/png": "[encoded data removed]",
      "text/plain": [
       "<Figure size 432x288 with 1 Axes>"
      ]
     },
     "metadata": {
      "needs_background": "light"
     },
     "output_type": "display_data"
    }
   ],
   "source": [
    "#2. Create line plot of FICO scores for period between 2000-2020 (Tom)\n",
    "\n",
    "FICO = Combined_df.set_index('Year')\n",
    "\n",
    "FICO_Plot = FICO[['Average Borrower FICO', 'MORTGAGE30US']]\n",
    "\n",
    "FICO_Plot['Weighted Average FICO Score'] = FICO_Plot['Average Borrower FICO'].astype(float) -700 \n",
    "\n",
    "FICO_Plot['Weighted National Average 30 Year Interest Rate'] = FICO_Plot['MORTGAGE30US'].astype(float) * 10\n",
    "\n",
    "FICO_Reset_Index = FICO_Plot.reset_index()\n",
    "\n",
    "FICO_Reset_Index['Year'] = FICO_Reset_Index['Year'].astype(str)\n",
    "\n",
    "#FICO_Reset_Index\n",
    "\n",
    "FICO_Line_Plot = FICO_Reset_Index.plot.area('Year', ['Weighted Average FICO Score', 'Weighted National Average 30 Year Interest Rate'], stacked=False)\n",
    "\n",
    "FICO_Line_Plot"
   ]
  },
  {
   "cell_type": "code",
   "execution_count": 53,
   "metadata": {},
   "outputs": [
    {
     "name": "stdout",
     "output_type": "stream",
     "text": [
      "                                                 Weighted Average FICO Score  \\\n",
      "Weighted Average FICO Score                                         1.000000   \n",
      "Weighted National Average 30 Year Interest Rate                    -0.863102   \n",
      "\n",
      "                                                 Weighted National Average 30 Year Interest Rate  \n",
      "Weighted Average FICO Score                                                            -0.863102  \n",
      "Weighted National Average 30 Year Interest Rate                                         1.000000  \n"
     ]
    },
    {
     "data": {
      "image/png": "[encoded data removed]",
      "text/plain": [
       "<Figure size 432x288 with 2 Axes>"
      ]
     },
     "metadata": {
      "needs_background": "light"
     },
     "output_type": "display_data"
    }
   ],
   "source": [
    "#Show Interest Rate and FICO correlation\n",
    "\n",
    "Interest_Rate_FICO = FICO_Reset_Index.set_index('Year')\n",
    "\n",
    "Interest_Rate_FICO = Interest_Rate_FICO.drop(columns = ['Average Borrower FICO','MORTGAGE30US'])\n",
    "\n",
    "Interest_Rate_FICO_Corr = Interest_Rate_FICO.corr()\n",
    "\n",
    "print(Interest_Rate_FICO_Corr)\n",
    "\n",
    "Interest_Rate_FICO_Corr_Plot = sns.heatmap(Interest_Rate_FICO_Corr, annot=True, vmax=1, vmin=-1)"
   ]
  },
  {
   "cell_type": "code",
   "execution_count": 79,
   "metadata": {},
   "outputs": [
    {
     "data": {
      "text/plain": [
       "<AxesSubplot:xlabel='Year'>"
      ]
     },
     "execution_count": 79,
     "metadata": {},
     "output_type": "execute_result"
    },
    {
     "data": {
      "image/png": "[encoded data removed]",
      "text/plain": [
       "<Figure size 432x288 with 1 Axes>"
      ]
     },
     "metadata": {
      "needs_background": "light"
     },
     "output_type": "display_data"
    }
   ],
   "source": [
    "#3. Show line plot heatmap correlation for FICO & LTV (remember to remove percentage) (Tom)\n",
    "\n",
    "LTV_Compare = Combined_df.set_index('Year')\n",
    "\n",
    "LTV_Compare_df = LTV_Compare[['Average Borrower FICO', 'Average LTV']]\n",
    "\n",
    "LTV_Compare_df['Average LTV'] = LTV_Compare_df['Average LTV'].str.replace('%','')\n",
    "\n",
    "LTV_Compare_df['Weighted Average LTV'] = LTV_Compare_df['Average LTV'].astype(float) * 10\n",
    "\n",
    "LTV_Compare_df = LTV_Compare_df.drop(columns = ['Average LTV'])\n",
    "\n",
    "LTV_Compare_df = LTV_Compare_df.reset_index()\n",
    "\n",
    "LTV_Compare_df['Year'] = LTV_Compare_df['Year'].astype(str)\n",
    "\n",
    "LTV_Plot = LTV_Compare_df.plot.line('Year', ['Weighted Average LTV', 'Average Borrower FICO'], stacked=False)\n",
    "\n",
    "LTV_Plot"
   ]
  },
  {
   "cell_type": "code",
   "execution_count": 60,
   "metadata": {},
   "outputs": [
    {
     "name": "stdout",
     "output_type": "stream",
     "text": [
      "                       Average LTV  Average Borrower FICO\n",
      "Average LTV               1.000000              -0.112242\n",
      "Average Borrower FICO    -0.112242               1.000000\n"
     ]
    },
    {
     "data": {
      "text/plain": [
       "<AxesSubplot:>"
      ]
     },
     "execution_count": 60,
     "metadata": {},
     "output_type": "execute_result"
    },
    {
     "data": {
      "image/png": "[encoded data removed]",
      "text/plain": [
       "<Figure size 432x288 with 2 Axes>"
      ]
     },
     "metadata": {
      "needs_background": "light"
     },
     "output_type": "display_data"
    }
   ],
   "source": [
    "#Plot Correlation\n",
    "\n",
    "LTV_Compare_Corr = Combined_df[['Average LTV', 'Average Borrower FICO']]\n",
    "\n",
    "LTV_Compare_Corr['Average LTV'] = LTV_Compare_Corr['Average LTV'].str.replace('%','')\n",
    "\n",
    "LTV_Compare_Corr['Average LTV'] = LTV_Compare_Corr['Average LTV'].astype(float)\n",
    "\n",
    "LTV_Compare_Corr['Average Borrower FICO'] = LTV_Compare_Corr['Average Borrower FICO'].astype(float) / 10\n",
    "\n",
    "Correlation = LTV_Compare_Corr.corr()\n",
    "\n",
    "print(Correlation)\n",
    "\n",
    "Correlation_Plot = sns.heatmap(Correlation, annot=True, vmax=1, vmin=-1)\n",
    "\n",
    "Correlation_Plot\n"
   ]
  },
  {
   "cell_type": "raw",
   "metadata": {},
   "source": []
  },
  {
   "cell_type": "code",
   "execution_count": null,
   "metadata": {},
   "outputs": [],
   "source": []
  },
  {
   "cell_type": "code",
   "execution_count": 85,
   "metadata": {},
   "outputs": [
    {
     "data": {
      "image/png": "[encoded data removed]",
      "text/plain": [
       "<Figure size 432x288 with 1 Axes>"
      ]
     },
     "metadata": {
      "needs_background": "light"
     },
     "output_type": "display_data"
    }
   ],
   "source": [
    "#4. Show investor property correlation percentage to cash out refi percentage (Tom)\n",
    "Investor_Property = Combined_df[['Year', '% Investor', '% Cashout']]\n",
    "\n",
    "Investor_Property['Year'] = Investor_Property['Year'].astype(str)\n",
    "\n",
    "Investor_Property = Investor_Property.set_index('Year')\n",
    "\n",
    "Investor_Property['% Investor'] = Investor_Property['% Investor'].str.replace('%','')\n",
    "\n",
    "Investor_Property['% Investor'] = Investor_Property['% Investor'].astype(float)\n",
    "\n",
    "Investor_Property['% Cashout'] = Investor_Property['% Cashout'].str.replace('%','')\n",
    "\n",
    "Investor_Property['% Cashout'] = Investor_Property['% Cashout'].astype(float)\n",
    "\n",
    "Investor_Property_Plot = Investor_Property.plot.area()\n",
    "\n"
   ]
  },
  {
   "cell_type": "code",
   "execution_count": 21,
   "metadata": {},
   "outputs": [
    {
     "name": "stdout",
     "output_type": "stream",
     "text": [
      "            % Investor  % Cashout\n",
      "% Investor    1.000000  -0.380133\n",
      "% Cashout    -0.380133   1.000000\n"
     ]
    },
    {
     "data": {
      "text/plain": [
       "<AxesSubplot:>"
      ]
     },
     "execution_count": 21,
     "metadata": {},
     "output_type": "execute_result"
    },
    {
     "data": {
      "image/png": "[encoded data removed]",
      "text/plain": [
       "<Figure size 432x288 with 2 Axes>"
      ]
     },
     "metadata": {
      "needs_background": "light"
     },
     "output_type": "display_data"
    }
   ],
   "source": [
    "#Plot correlation\n",
    "\n",
    "Investor_Corr = Investor_Property.corr()\n",
    "\n",
    "print(Investor_Corr)\n",
    "Investor_Heatmap = sns.heatmap(Investor_Corr, annot=True, vmax=1, vmin=-)\n",
    "\n",
    "Investor_Heatmap"
   ]
  },
  {
   "cell_type": "code",
   "execution_count": 89,
   "metadata": {},
   "outputs": [
    {
     "data": {
      "image/png": "[encoded data removed]",
      "text/plain": [
       "<Figure size 432x288 with 1 Axes>"
      ]
     },
     "metadata": {
      "needs_background": "light"
     },
     "output_type": "display_data"
    }
   ],
   "source": [
    "#5. Interest rate correlated with home price index (weighted) (Tom)\n",
    "Schiller_df = Combined_df[['Year', 'Average Note Rate', 'MORTGAGE30US', 'CSUSHPINSA']]\n",
    "\n",
    "Schiller_df['Average Note Rate'] = Schiller_df['Average Note Rate'].str.replace('%','')\n",
    "\n",
    "Schiller_df['Average Note Rate'] = Schiller_df['Average Note Rate'].astype(float)\n",
    "\n",
    "Schiller_df[['Average Fannie Mae Interest Rate', 'National Average 30 Year Interest Rate']] = Schiller_df[['Average Note Rate', 'MORTGAGE30US']] * 20\n",
    "\n",
    "Schiller_df['Case-Schiller Nationwide Home Price Index'] = Schiller_df['CSUSHPINSA']\n",
    "    \n",
    "Schiller_df = Schiller_df.drop(columns = ['Average Note Rate', 'MORTGAGE30US', 'CSUSHPINSA'])\n",
    "\n",
    "Schiller_df['Year'] = Schiller_df['Year'].astype(str)\n",
    "\n",
    "Schiller_Plot = Schiller_df.plot.area('Year', ['Case-Schiller Nationwide Home Price Index', 'National Average 30 Year Interest Rate'], stacked = False)\n"
   ]
  },
  {
   "cell_type": "code",
   "execution_count": 93,
   "metadata": {},
   "outputs": [
    {
     "name": "stdout",
     "output_type": "stream",
     "text": [
      "                                           National Average 30 Year Interest Rate  \\\n",
      "National Average 30 Year Interest Rate                                   1.000000   \n",
      "Case-Schiller Nationwide Home Price Index                               -0.600997   \n",
      "\n",
      "                                           Case-Schiller Nationwide Home Price Index  \n",
      "National Average 30 Year Interest Rate                                     -0.600997  \n",
      "Case-Schiller Nationwide Home Price Index                                   1.000000  \n"
     ]
    },
    {
     "data": {
      "text/plain": [
       "<AxesSubplot:>"
      ]
     },
     "execution_count": 93,
     "metadata": {},
     "output_type": "execute_result"
    },
    {
     "data": {
      "image/png": "[encoded data removed]",
      "text/plain": [
       "<Figure size 432x288 with 2 Axes>"
      ]
     },
     "metadata": {
      "needs_background": "light"
     },
     "output_type": "display_data"
    }
   ],
   "source": [
    "#Plot Schiller correlation\n",
    "\n",
    "Schiller_Year_Index = Schiller_df.set_index('Year')\n",
    "\n",
    "Schiller_Corr = Schiller_Year_Index.drop(columns = 'Average Fannie Mae Interest Rate')\n",
    "\n",
    "Schiller_Corr = Schiller_Corr.corr()\n",
    "\n",
    "print(Schiller_Corr)\n",
    "\n",
    "Schiller_Corr_Plot = sns.heatmap(Schiller_Corr, annot=True, vmax=1, vmin=-1)\n",
    "\n",
    "Schiller_Corr_Plot"
   ]
  },
  {
   "cell_type": "code",
   "execution_count": 94,
   "metadata": {},
   "outputs": [
    {
     "data": {
      "text/plain": [
       "<AxesSubplot:xlabel='Year'>"
      ]
     },
     "execution_count": 94,
     "metadata": {},
     "output_type": "execute_result"
    },
    {
     "data": {
      "image/png": "[encoded data removed]",
      "text/plain": [
       "<Figure size 432x288 with 1 Axes>"
      ]
     },
     "metadata": {
      "needs_background": "light"
     },
     "output_type": "display_data"
    }
   ],
   "source": [
    "#Compare & contrast interest rates to show that they are not a perfect match\n",
    "\n",
    "Interest_Rate_Comparison = Schiller_Year_Index.drop(columns = 'Case-Schiller Nationwide Home Price Index')\n",
    "\n",
    "Interest_Rate_Unweight = Interest_Rate_Comparison / 20\n",
    "\n",
    "Interest_Rate_Area_Plot = Interest_Rate_Unweight.plot.area()\n",
    "\n",
    "Interest_Rate_Area_Plot\n"
   ]
  },
  {
   "cell_type": "code",
   "execution_count": 95,
   "metadata": {},
   "outputs": [
    {
     "name": "stdout",
     "output_type": "stream",
     "text": [
      "                                        Average Fannie Mae Interest Rate  \\\n",
      "Average Fannie Mae Interest Rate                                 1.00000   \n",
      "National Average 30 Year Interest Rate                           0.99484   \n",
      "\n",
      "                                        National Average 30 Year Interest Rate  \n",
      "Average Fannie Mae Interest Rate                                       0.99484  \n",
      "National Average 30 Year Interest Rate                                 1.00000  \n"
     ]
    },
    {
     "data": {
      "text/plain": [
       "<AxesSubplot:>"
      ]
     },
     "execution_count": 95,
     "metadata": {},
     "output_type": "execute_result"
    },
    {
     "data": {
      "image/png": "[encoded data removed]",
      "text/plain": [
       "<Figure size 432x288 with 2 Axes>"
      ]
     },
     "metadata": {
      "needs_background": "light"
     },
     "output_type": "display_data"
    }
   ],
   "source": [
    "#Show correlation between interest rates\n",
    "Interest_Rate_Correlation = Interest_Rate_Unweight.corr()\n",
    "\n",
    "print(Interest_Rate_Correlation)\n",
    "\n",
    "Interest_Rate_Heatmap = sns.heatmap(Interest_Rate_Correlation, annot=True, vmax=1, vmin=.98)\n",
    "\n",
    "Interest_Rate_Heatmap"
   ]
  },
  {
   "cell_type": "code",
   "execution_count": 13,
   "metadata": {},
   "outputs": [],
   "source": [
    "#6. Percent change of orig. UPB with percentage change in LTV (Rosalyn)\n"
   ]
  },
  {
   "cell_type": "code",
   "execution_count": 14,
   "metadata": {},
   "outputs": [],
   "source": [
    "#9. Plot interest rate against number of loans (weight number of loans by dividing by number of million and casting to float)\n",
    "#(Rosalyn)"
   ]
  },
  {
   "cell_type": "code",
   "execution_count": 15,
   "metadata": {},
   "outputs": [],
   "source": [
    "#10. Plot prepayment percentage versus interest rate (Rosalyn)"
   ]
  },
  {
   "cell_type": "code",
   "execution_count": 16,
   "metadata": {},
   "outputs": [],
   "source": [
    "#11. Prepayment versus Case-Schiller index (prepayment down as asset prices increase) (Jackie)"
   ]
  },
  {
   "cell_type": "code",
   "execution_count": 17,
   "metadata": {},
   "outputs": [],
   "source": [
    "#12. Plot loan volume vs. LTV (Jackie)"
   ]
  },
  {
   "cell_type": "code",
   "execution_count": 18,
   "metadata": {},
   "outputs": [],
   "source": [
    "#13. Plot FICO vs. Loan volume (Jackie)"
   ]
  },
  {
   "cell_type": "code",
   "execution_count": 19,
   "metadata": {},
   "outputs": [],
   "source": [
    "#14. Plot DTI vs. LTV (Jackie)"
   ]
  },
  {
   "cell_type": "code",
   "execution_count": 20,
   "metadata": {},
   "outputs": [],
   "source": [
    "#15. Plot DTI vs. FICO (Jackie)"
   ]
  },
  {
   "cell_type": "code",
   "execution_count": 21,
   "metadata": {},
   "outputs": [],
   "source": [
    "#16. Plotly widget 1 (group)"
   ]
  },
  {
   "cell_type": "code",
   "execution_count": 22,
   "metadata": {},
   "outputs": [],
   "source": [
    "#17. Plotly widget 2 (group)"
   ]
  },
  {
   "cell_type": "code",
   "execution_count": null,
   "metadata": {},
   "outputs": [],
   "source": [
    "#18. Bonus \n",
    "#Lagging indicators - US GDP from Quandl API\n",
    "#Leading indicators - Russell 3000  ETF data from Alpaca API, unemployment figures from Quandle & CPI from BLS.gov"
   ]
  },
  {
   "cell_type": "code",
   "execution_count": null,
   "metadata": {},
   "outputs": [],
   "source": [
    "#Montecarlo simulation of S&P and/ or Case-Schiller"
   ]
  }
 ],
 "metadata": {
  "kernelspec": {
   "display_name": "Python 3",
   "language": "python",
   "name": "python3"
  },
  "language_info": {
   "codemirror_mode": {
    "name": "ipython",
    "version": 3
   },
   "file_extension": ".py",
   "mimetype": "text/x-python",
   "name": "python",
   "nbconvert_exporter": "python",
   "pygments_lexer": "ipython3",
   "version": "3.8.5"
  }
 },
 "nbformat": 4,
 "nbformat_minor": 4
}
